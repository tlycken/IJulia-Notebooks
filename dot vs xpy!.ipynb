{
 "cells": [
  {
   "cell_type": "code",
   "execution_count": 5,
   "metadata": {
    "collapsed": false
   },
   "outputs": [
    {
     "name": "stdout",
     "output_type": "stream",
     "text": [
      "warmup\n",
      "  0.000001 seconds (3 allocations: 144 bytes)\n",
      "dot\n",
      "@elapsed(dot(A1,B)) = 4.0913e-5\n",
      "@allocated(dot(A1,B)) = 16\n",
      "xpy!\n",
      "@elapsed(xpy!(A1,B)) = 4.3479e-5\n",
      "@allocated(xpy!(A2,B)) = 0\n"
     ]
    }
   ],
   "source": [
    "N = 30_000\n",
    "\n",
    "A0 = randn(N)\n",
    "A = copy(A0)\n",
    "B = randn(N)\n",
    "\n",
    "# define xpy!\n",
    "function xpy!(A, B)\n",
    "    size(A,1) == (n = size(B,1)) || return A\n",
    "    @inbounds for i = 1:n\n",
    "        A[i] *= B[i]\n",
    "    end\n",
    "    A\n",
    "end\n",
    "\n",
    "println(\"warmup\")\n",
    "@time 1\n",
    "dot(randn(10), randn(10))\n",
    "xpy!(randn(10), randn(10))\n",
    "\n",
    "# measure\n",
    "\n",
    "println(\"dot\")\n",
    "gc()\n",
    "@show @elapsed dot(A1,B)\n",
    "@show @allocated dot(A1,B)\n",
    "println(\"xpy!\")\n",
    "gc()\n",
    "@show @elapsed xpy!(A2,B)\n",
    "@show @allocated xpy!(A2,B)\n",
    "\n",
    "# suppress output\n",
    "nothing"
   ]
  },
  {
   "cell_type": "code",
   "execution_count": null,
   "metadata": {
    "collapsed": true
   },
   "outputs": [],
   "source": []
  },
  {
   "cell_type": "code",
   "execution_count": null,
   "metadata": {
    "collapsed": true
   },
   "outputs": [],
   "source": []
  }
 ],
 "metadata": {
  "kernelspec": {
   "display_name": "Julia 0.4.0-rc2",
   "language": "julia",
   "name": "julia-0.4"
  },
  "language_info": {
   "file_extension": ".jl",
   "mimetype": "application/julia",
   "name": "julia",
   "version": "0.4.0"
  }
 },
 "nbformat": 4,
 "nbformat_minor": 0
}
